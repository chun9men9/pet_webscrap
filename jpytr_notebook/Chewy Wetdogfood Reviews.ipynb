{
 "cells": [
  {
   "cell_type": "code",
   "execution_count": 1,
   "metadata": {
    "collapsed": true
   },
   "outputs": [],
   "source": [
    "%matplotlib inline"
   ]
  },
  {
   "cell_type": "code",
   "execution_count": 4,
   "metadata": {
    "collapsed": true
   },
   "outputs": [],
   "source": [
    "import pandas as pd\n",
    "import numpy as np\n",
    "from matplotlib import pyplot as plt\n",
    "import seaborn as sns\n",
    "import re"
   ]
  },
  {
   "cell_type": "code",
   "execution_count": 5,
   "metadata": {},
   "outputs": [
    {
     "data": {
      "text/html": [
       "<div>\n",
       "<style>\n",
       "    .dataframe thead tr:only-child th {\n",
       "        text-align: right;\n",
       "    }\n",
       "\n",
       "    .dataframe thead th {\n",
       "        text-align: left;\n",
       "    }\n",
       "\n",
       "    .dataframe tbody tr th {\n",
       "        vertical-align: top;\n",
       "    }\n",
       "</style>\n",
       "<table border=\"1\" class=\"dataframe\">\n",
       "  <thead>\n",
       "    <tr style=\"text-align: right;\">\n",
       "      <th></th>\n",
       "      <th>category</th>\n",
       "      <th>review_full_content_0</th>\n",
       "      <th>review_full_content_1</th>\n",
       "      <th>pos_review_title</th>\n",
       "      <th>pos_review_content</th>\n",
       "      <th>itemnumber</th>\n",
       "      <th>neg_review_content</th>\n",
       "      <th>maker</th>\n",
       "      <th>neg_review_title</th>\n",
       "    </tr>\n",
       "  </thead>\n",
       "  <tbody>\n",
       "    <tr>\n",
       "      <th>0</th>\n",
       "      <td>Dog,Food,Wet Food</td>\n",
       "      <td>It is not as stew-y as I expected based on oth...</td>\n",
       "      <td>I was surprised my two large dogs didn't like ...</td>\n",
       "      <td>My girls LOVE this food!!!!</td>\n",
       "      <td>It is not as stew-y as I expected based on oth...</td>\n",
       "      <td>73955</td>\n",
       "      <td>I was surprised my two large dogs didn't like ...</td>\n",
       "      <td>By Whole Earth Farms</td>\n",
       "      <td>Surprising  mediocre response from my dogs</td>\n",
       "    </tr>\n",
       "    <tr>\n",
       "      <th>1</th>\n",
       "      <td>Dog,Food,Wet Food</td>\n",
       "      <td>I have two small, picky-eaters and had good lu...</td>\n",
       "      <td>NaN</td>\n",
       "      <td>Excellent as a topper for dry kibble</td>\n",
       "      <td>I have two small, picky-eaters and had good lu...</td>\n",
       "      <td>50640</td>\n",
       "      <td>Selected this food because of the nutritional ...</td>\n",
       "      <td>By Taste of the Wild</td>\n",
       "      <td>Didn't do the trick</td>\n",
       "    </tr>\n",
       "    <tr>\n",
       "      <th>2</th>\n",
       "      <td>Dog,Food,Wet Food</td>\n",
       "      <td>NaN</td>\n",
       "      <td>NaN</td>\n",
       "      <td>My dogs ate this up!</td>\n",
       "      <td>My dogs are really finicky, but they lapped th...</td>\n",
       "      <td>60626</td>\n",
       "      <td>This Was supposed to have Rice with Beef Chunk...</td>\n",
       "      <td>By Nutro Max</td>\n",
       "      <td>Nutro Max Large Breed Adult Beef &amp; Rice Dinner...</td>\n",
       "    </tr>\n",
       "    <tr>\n",
       "      <th>3</th>\n",
       "      <td>Dog,Food,Wet Food</td>\n",
       "      <td>I had tried another type and brand of this and...</td>\n",
       "      <td>I used to buy one of these rolls every few mon...</td>\n",
       "      <td>What a terrific product</td>\n",
       "      <td>I had tried another type and brand of this and...</td>\n",
       "      <td>76564</td>\n",
       "      <td>I used to buy one of these rolls every few mon...</td>\n",
       "      <td>By Natural Balance</td>\n",
       "      <td>Not the Natural Balance roll of a few years ago</td>\n",
       "    </tr>\n",
       "    <tr>\n",
       "      <th>4</th>\n",
       "      <td>Dog,Food,Wet Food</td>\n",
       "      <td>NaN</td>\n",
       "      <td>NaN</td>\n",
       "      <td>My dog loves this</td>\n",
       "      <td>I have not tasted it myself but my Mastiff rea...</td>\n",
       "      <td>84997</td>\n",
       "      <td>Except that this particular variety gave her d...</td>\n",
       "      <td>By Blue Buffalo</td>\n",
       "      <td>Dog Liked It, But</td>\n",
       "    </tr>\n",
       "  </tbody>\n",
       "</table>\n",
       "</div>"
      ],
      "text/plain": [
       "            category                              review_full_content_0  \\\n",
       "0  Dog,Food,Wet Food  It is not as stew-y as I expected based on oth...   \n",
       "1  Dog,Food,Wet Food  I have two small, picky-eaters and had good lu...   \n",
       "2  Dog,Food,Wet Food                                                NaN   \n",
       "3  Dog,Food,Wet Food  I had tried another type and brand of this and...   \n",
       "4  Dog,Food,Wet Food                                                NaN   \n",
       "\n",
       "                               review_full_content_1  \\\n",
       "0  I was surprised my two large dogs didn't like ...   \n",
       "1                                                NaN   \n",
       "2                                                NaN   \n",
       "3  I used to buy one of these rolls every few mon...   \n",
       "4                                                NaN   \n",
       "\n",
       "                       pos_review_title  \\\n",
       "0           My girls LOVE this food!!!!   \n",
       "1  Excellent as a topper for dry kibble   \n",
       "2                  My dogs ate this up!   \n",
       "3               What a terrific product   \n",
       "4                     My dog loves this   \n",
       "\n",
       "                                  pos_review_content  itemnumber  \\\n",
       "0  It is not as stew-y as I expected based on oth...       73955   \n",
       "1  I have two small, picky-eaters and had good lu...       50640   \n",
       "2  My dogs are really finicky, but they lapped th...       60626   \n",
       "3  I had tried another type and brand of this and...       76564   \n",
       "4  I have not tasted it myself but my Mastiff rea...       84997   \n",
       "\n",
       "                                  neg_review_content                 maker  \\\n",
       "0  I was surprised my two large dogs didn't like ...  By Whole Earth Farms   \n",
       "1  Selected this food because of the nutritional ...  By Taste of the Wild   \n",
       "2  This Was supposed to have Rice with Beef Chunk...          By Nutro Max   \n",
       "3  I used to buy one of these rolls every few mon...    By Natural Balance   \n",
       "4  Except that this particular variety gave her d...       By Blue Buffalo   \n",
       "\n",
       "                                    neg_review_title  \n",
       "0         Surprising  mediocre response from my dogs  \n",
       "1                                Didn't do the trick  \n",
       "2  Nutro Max Large Breed Adult Beef & Rice Dinner...  \n",
       "3    Not the Natural Balance roll of a few years ago  \n",
       "4                                  Dog Liked It, But  "
      ]
     },
     "execution_count": 5,
     "metadata": {},
     "output_type": "execute_result"
    }
   ],
   "source": [
    "wetdogfood_review_df = pd.read_csv('review_wetdogfood.csv')#,encoding=\"ISO-8859-1\",index_col=0)\n",
    "wetdogfood_review_df.head()"
   ]
  },
  {
   "cell_type": "code",
   "execution_count": 26,
   "metadata": {
    "collapsed": true
   },
   "outputs": [],
   "source": [
    "pos_review_df=wetdogfood_review_df[['pos_review_content']]\n",
    "pos_review_df.to_csv('pos_review.csv')\n",
    "pos_review_df=wetdogfood_review_df[['neg_review_content']]\n",
    "pos_review_df.to_csv('neg_review.csv')"
   ]
  },
  {
   "cell_type": "code",
   "execution_count": 27,
   "metadata": {
    "collapsed": true
   },
   "outputs": [],
   "source": [
    "pos_title_df=wetdogfood_review_df[['pos_review_title']]\n",
    "pos_title_df.to_csv('pos_title.csv')\n",
    "pos_title_df=wetdogfood_review_df[['neg_review_title']]\n",
    "pos_title_df.to_csv('neg_title.csv')"
   ]
  },
  {
   "cell_type": "code",
   "execution_count": 21,
   "metadata": {},
   "outputs": [
    {
     "data": {
      "text/html": [
       "<div>\n",
       "<style>\n",
       "    .dataframe thead tr:only-child th {\n",
       "        text-align: right;\n",
       "    }\n",
       "\n",
       "    .dataframe thead th {\n",
       "        text-align: left;\n",
       "    }\n",
       "\n",
       "    .dataframe tbody tr th {\n",
       "        vertical-align: top;\n",
       "    }\n",
       "</style>\n",
       "<table border=\"1\" class=\"dataframe\">\n",
       "  <thead>\n",
       "    <tr style=\"text-align: right;\">\n",
       "      <th></th>\n",
       "      <th>benefits</th>\n",
       "    </tr>\n",
       "  </thead>\n",
       "  <tbody>\n",
       "    <tr>\n",
       "      <th>0</th>\n",
       "      <td>&lt;li&gt;the best, healthy ingredients from the ear...</td>\n",
       "    </tr>\n",
       "    <tr>\n",
       "      <th>1</th>\n",
       "      <td>&lt;li&gt;protects vital kidney and heart function w...</td>\n",
       "    </tr>\n",
       "    <tr>\n",
       "      <th>2</th>\n",
       "      <td>&lt;li&gt;this recipe is made with real meat, brown ...</td>\n",
       "    </tr>\n",
       "    <tr>\n",
       "      <th>3</th>\n",
       "      <td>&lt;li&gt;made with the finest natural ingredients, ...</td>\n",
       "    </tr>\n",
       "    <tr>\n",
       "      <th>4</th>\n",
       "      <td>&lt;li&gt;real beef and beef liver in a savory broth...</td>\n",
       "    </tr>\n",
       "  </tbody>\n",
       "</table>\n",
       "</div>"
      ],
      "text/plain": [
       "                                            benefits\n",
       "0  <li>the best, healthy ingredients from the ear...\n",
       "1  <li>protects vital kidney and heart function w...\n",
       "2  <li>this recipe is made with real meat, brown ...\n",
       "3  <li>made with the finest natural ingredients, ...\n",
       "4  <li>real beef and beef liver in a savory broth..."
      ]
     },
     "execution_count": 21,
     "metadata": {},
     "output_type": "execute_result"
    }
   ],
   "source": [
    "wdog_csv_df = pd.read_csv('wetdogfood.csv')\n",
    "wdog_csv_df.head()\n",
    "wetdog_benefits_df=wdog_csv_df[['benefits']]\n",
    "wetdog_benefits_df.head()"
   ]
  },
  {
   "cell_type": "code",
   "execution_count": 22,
   "metadata": {},
   "outputs": [
    {
     "name": "stderr",
     "output_type": "stream",
     "text": [
      "C:\\Users\\cmlim\\Anaconda2\\envs\\py35\\lib\\site-packages\\ipykernel_launcher.py:1: SettingWithCopyWarning: \n",
      "A value is trying to be set on a copy of a slice from a DataFrame.\n",
      "Try using .loc[row_indexer,col_indexer] = value instead\n",
      "\n",
      "See the caveats in the documentation: http://pandas.pydata.org/pandas-docs/stable/indexing.html#indexing-view-versus-copy\n",
      "  \"\"\"Entry point for launching an IPython kernel.\n"
     ]
    }
   ],
   "source": [
    "wetdog_benefits_df['benefits']=wetdog_benefits_df.benefits.map(lambda lines:re.sub('<\\S{1,3}>',' ',lines))"
   ]
  },
  {
   "cell_type": "code",
   "execution_count": 23,
   "metadata": {},
   "outputs": [],
   "source": [
    "wetdog_benefits_df.head()\n",
    "wetdog_benefits_df.to_csv('benefits.csv')"
   ]
  },
  {
   "cell_type": "code",
   "execution_count": null,
   "metadata": {
    "collapsed": true
   },
   "outputs": [],
   "source": []
  },
  {
   "cell_type": "code",
   "execution_count": 24,
   "metadata": {
    "collapsed": true
   },
   "outputs": [],
   "source": [
    "import matplotlib.image as mpimg"
   ]
  },
  {
   "cell_type": "code",
   "execution_count": 51,
   "metadata": {},
   "outputs": [
    {
     "data": {
      "text/plain": [
       "<matplotlib.image.AxesImage at 0x2853f5d1b00>"
      ]
     },
     "execution_count": 51,
     "metadata": {},
     "output_type": "execute_result"
    },
    {
     "data": {
      "image/png": "[encoded data removed]",
      "text/plain": [
       "<matplotlib.figure.Figure at 0x2853fcd5ba8>"
      ]
     },
     "metadata": {},
     "output_type": "display_data"
    }
   ],
   "source": [
    "img=mpimg.imread('Rplot.png')#[200:600,400:900]\n",
    "plt.imshow(img)#, vmax=abs(img).max(), vmin=-abs(img).max())"
   ]
  },
  {
   "cell_type": "code",
   "execution_count": null,
   "metadata": {
    "collapsed": true
   },
   "outputs": [],
   "source": []
  }
 ],
 "metadata": {
  "kernelspec": {
   "display_name": "Python 3",
   "language": "python",
   "name": "python3"
  },
  "language_info": {
   "codemirror_mode": {
    "name": "ipython",
    "version": 3
   },
   "file_extension": ".py",
   "mimetype": "text/x-python",
   "name": "python",
   "nbconvert_exporter": "python",
   "pygments_lexer": "ipython3",
   "version": "3.5.3"
  }
 },
 "nbformat": 4,
 "nbformat_minor": 2
}
