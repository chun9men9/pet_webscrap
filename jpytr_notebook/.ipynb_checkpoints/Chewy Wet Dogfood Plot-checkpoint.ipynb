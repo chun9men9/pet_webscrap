{
 "cells": [
  {
   "cell_type": "code",
   "execution_count": 4,
   "metadata": {
    "collapsed": true
   },
   "outputs": [],
   "source": [
    "%matplotlib inline"
   ]
  },
  {
   "cell_type": "code",
   "execution_count": 34,
   "metadata": {
    "collapsed": true
   },
   "outputs": [],
   "source": [
    "import pandas as pd\n",
    "import numpy as np\n",
    "from matplotlib import pyplot as plt\n",
    "import seaborn as sns\n",
    "import re"
   ]
  },
  {
   "cell_type": "code",
   "execution_count": 104,
   "metadata": {},
   "outputs": [
    {
     "data": {
      "text/html": [
       "<div>\n",
       "<style>\n",
       "    .dataframe thead tr:only-child th {\n",
       "        text-align: right;\n",
       "    }\n",
       "\n",
       "    .dataframe thead th {\n",
       "        text-align: left;\n",
       "    }\n",
       "\n",
       "    .dataframe tbody tr th {\n",
       "        vertical-align: top;\n",
       "    }\n",
       "</style>\n",
       "<table border=\"1\" class=\"dataframe\">\n",
       "  <thead>\n",
       "    <tr style=\"text-align: right;\">\n",
       "      <th></th>\n",
       "      <th>price</th>\n",
       "      <th>weight</th>\n",
       "      <th>product_list</th>\n",
       "      <th>maker</th>\n",
       "      <th>brand</th>\n",
       "      <th>rating</th>\n",
       "      <th>review_cnt</th>\n",
       "      <th>foodtexture</th>\n",
       "    </tr>\n",
       "  </thead>\n",
       "  <tbody>\n",
       "    <tr>\n",
       "      <th>0</th>\n",
       "      <td>21.24</td>\n",
       "      <td>9.525</td>\n",
       "      <td>whole earth farms grain-free hearty beef stew</td>\n",
       "      <td>Whole Earth Farms</td>\n",
       "      <td>Whole Earth Farms</td>\n",
       "      <td>4.4</td>\n",
       "      <td>206.0</td>\n",
       "      <td>stew</td>\n",
       "    </tr>\n",
       "    <tr>\n",
       "      <th>1</th>\n",
       "      <td>35.99</td>\n",
       "      <td>9.375</td>\n",
       "      <td>hill's prescription diet k/d kidney care chick...</td>\n",
       "      <td>Hill's Prescription Diet</td>\n",
       "      <td>Hill's</td>\n",
       "      <td>4.6</td>\n",
       "      <td>175.0</td>\n",
       "      <td>stew</td>\n",
       "    </tr>\n",
       "    <tr>\n",
       "      <th>2</th>\n",
       "      <td>18.85</td>\n",
       "      <td>9.600</td>\n",
       "      <td>hill's science diet adult savory stew with bee...</td>\n",
       "      <td>Hill's Science Diet</td>\n",
       "      <td>Hill's</td>\n",
       "      <td>4.9</td>\n",
       "      <td>40.0</td>\n",
       "      <td>stew</td>\n",
       "    </tr>\n",
       "    <tr>\n",
       "      <th>3</th>\n",
       "      <td>25.99</td>\n",
       "      <td>9.375</td>\n",
       "      <td>blue buffalo wilderness duck &amp; chicken grill g...</td>\n",
       "      <td>Blue Buffalo</td>\n",
       "      <td>Blue Buffalo</td>\n",
       "      <td>4.6</td>\n",
       "      <td>97.0</td>\n",
       "      <td>pate</td>\n",
       "    </tr>\n",
       "    <tr>\n",
       "      <th>4</th>\n",
       "      <td>18.22</td>\n",
       "      <td>9.375</td>\n",
       "      <td>nutro max large breed adult beef &amp; rice dinner...</td>\n",
       "      <td>Nutro Max</td>\n",
       "      <td>Nutro</td>\n",
       "      <td>4.6</td>\n",
       "      <td>33.0</td>\n",
       "      <td>chunks in gravy</td>\n",
       "    </tr>\n",
       "  </tbody>\n",
       "</table>\n",
       "</div>"
      ],
      "text/plain": [
       "   price  weight                                       product_list  \\\n",
       "0  21.24   9.525     whole earth farms grain-free hearty beef stew    \n",
       "1  35.99   9.375  hill's prescription diet k/d kidney care chick...   \n",
       "2  18.85   9.600  hill's science diet adult savory stew with bee...   \n",
       "3  25.99   9.375  blue buffalo wilderness duck & chicken grill g...   \n",
       "4  18.22   9.375  nutro max large breed adult beef & rice dinner...   \n",
       "\n",
       "                      maker              brand  rating  review_cnt  \\\n",
       "0         Whole Earth Farms  Whole Earth Farms     4.4       206.0   \n",
       "1  Hill's Prescription Diet             Hill's     4.6       175.0   \n",
       "2       Hill's Science Diet             Hill's     4.9        40.0   \n",
       "3              Blue Buffalo       Blue Buffalo     4.6        97.0   \n",
       "4                 Nutro Max              Nutro     4.6        33.0   \n",
       "\n",
       "       foodtexture  \n",
       "0             stew  \n",
       "1             stew  \n",
       "2             stew  \n",
       "3             pate  \n",
       "4  chunks in gravy  "
      ]
     },
     "execution_count": 104,
     "metadata": {},
     "output_type": "execute_result"
    }
   ],
   "source": [
    "wetdogfood_df = pd.read_csv('wetdogfood_clean.csv',encoding=\"ISO-8859-1\",index_col=0)\n",
    "wetdogfood_df.head()"
   ]
  },
  {
   "cell_type": "code",
   "execution_count": 105,
   "metadata": {},
   "outputs": [
    {
     "data": {
      "text/html": [
       "<div>\n",
       "<style>\n",
       "    .dataframe thead tr:only-child th {\n",
       "        text-align: right;\n",
       "    }\n",
       "\n",
       "    .dataframe thead th {\n",
       "        text-align: left;\n",
       "    }\n",
       "\n",
       "    .dataframe tbody tr th {\n",
       "        vertical-align: top;\n",
       "    }\n",
       "</style>\n",
       "<table border=\"1\" class=\"dataframe\">\n",
       "  <thead>\n",
       "    <tr style=\"text-align: right;\">\n",
       "      <th></th>\n",
       "      <th>price</th>\n",
       "      <th>weight</th>\n",
       "      <th>product_list</th>\n",
       "      <th>maker</th>\n",
       "      <th>brand</th>\n",
       "      <th>rating</th>\n",
       "      <th>review_cnt</th>\n",
       "      <th>foodtexture</th>\n",
       "      <th>unit_price</th>\n",
       "    </tr>\n",
       "  </thead>\n",
       "  <tbody>\n",
       "    <tr>\n",
       "      <th>1125</th>\n",
       "      <td>50.80</td>\n",
       "      <td>0.36250</td>\n",
       "      <td>royal canin starter mousse mother &amp; babydog</td>\n",
       "      <td>Royal Canin</td>\n",
       "      <td>Royal Canin</td>\n",
       "      <td>4.9</td>\n",
       "      <td>38.0</td>\n",
       "      <td>pate</td>\n",
       "      <td>140.137931</td>\n",
       "    </tr>\n",
       "    <tr>\n",
       "      <th>595</th>\n",
       "      <td>34.99</td>\n",
       "      <td>0.31250</td>\n",
       "      <td>tender &amp; true organic turkey &amp; liver recipe gr...</td>\n",
       "      <td>Tender &amp; True</td>\n",
       "      <td>Tender &amp; True</td>\n",
       "      <td>5.0</td>\n",
       "      <td>2.0</td>\n",
       "      <td>pate</td>\n",
       "      <td>111.968000</td>\n",
       "    </tr>\n",
       "    <tr>\n",
       "      <th>707</th>\n",
       "      <td>34.99</td>\n",
       "      <td>0.31250</td>\n",
       "      <td>tender &amp; true organic chicken &amp; liver recipe g...</td>\n",
       "      <td>Tender &amp; True</td>\n",
       "      <td>Tender &amp; True</td>\n",
       "      <td>5.0</td>\n",
       "      <td>1.0</td>\n",
       "      <td>pate</td>\n",
       "      <td>111.968000</td>\n",
       "    </tr>\n",
       "    <tr>\n",
       "      <th>1235</th>\n",
       "      <td>33.99</td>\n",
       "      <td>0.34375</td>\n",
       "      <td>tender &amp; true sustainable seafood ocean whitef...</td>\n",
       "      <td>Tender &amp; True</td>\n",
       "      <td>Tender &amp; True</td>\n",
       "      <td>NaN</td>\n",
       "      <td>NaN</td>\n",
       "      <td>pate</td>\n",
       "      <td>98.880000</td>\n",
       "    </tr>\n",
       "    <tr>\n",
       "      <th>594</th>\n",
       "      <td>31.99</td>\n",
       "      <td>0.34375</td>\n",
       "      <td>tender &amp; true antibiotic-free natural turkey &amp;...</td>\n",
       "      <td>Tender &amp; True</td>\n",
       "      <td>Tender &amp; True</td>\n",
       "      <td>NaN</td>\n",
       "      <td>NaN</td>\n",
       "      <td>pate</td>\n",
       "      <td>93.061818</td>\n",
       "    </tr>\n",
       "  </tbody>\n",
       "</table>\n",
       "</div>"
      ],
      "text/plain": [
       "      price   weight                                       product_list  \\\n",
       "1125  50.80  0.36250       royal canin starter mousse mother & babydog    \n",
       "595   34.99  0.31250  tender & true organic turkey & liver recipe gr...   \n",
       "707   34.99  0.31250  tender & true organic chicken & liver recipe g...   \n",
       "1235  33.99  0.34375  tender & true sustainable seafood ocean whitef...   \n",
       "594   31.99  0.34375  tender & true antibiotic-free natural turkey &...   \n",
       "\n",
       "              maker          brand  rating  review_cnt foodtexture  unit_price  \n",
       "1125    Royal Canin    Royal Canin     4.9        38.0        pate  140.137931  \n",
       "595   Tender & True  Tender & True     5.0         2.0        pate  111.968000  \n",
       "707   Tender & True  Tender & True     5.0         1.0        pate  111.968000  \n",
       "1235  Tender & True  Tender & True     NaN         NaN        pate   98.880000  \n",
       "594   Tender & True  Tender & True     NaN         NaN        pate   93.061818  "
      ]
     },
     "execution_count": 105,
     "metadata": {},
     "output_type": "execute_result"
    }
   ],
   "source": [
    "###Calculate Unit Price\n",
    "wetdogfood_df['unit_price']=wetdogfood_df['price']/wetdogfood_df['weight']\n",
    "#wetdogfood_df=wetdogfood_df.drop(['price','weight'],axis=1)\n",
    "wetdogfood_df.sort_values(by='unit_price',ascending=False).head()"
   ]
  },
  {
   "cell_type": "code",
   "execution_count": 66,
   "metadata": {},
   "outputs": [],
   "source": [
    "group_brand_df=wetdogfood_df.groupby('brand')\n",
    "#group_brand_df.describe()"
   ]
  },
  {
   "cell_type": "code",
   "execution_count": 106,
   "metadata": {},
   "outputs": [
    {
     "data": {
      "text/plain": [
       "<matplotlib.axes._subplots.AxesSubplot at 0x1676cbccb00>"
      ]
     },
     "execution_count": 106,
     "metadata": {},
     "output_type": "execute_result"
    },
    {
     "data": {
      "image/png": "[encoded data removed]",
      "text/plain": [
       "<matplotlib.figure.Figure at 0x1676cbc1b00>"
      ]
     },
     "metadata": {},
     "output_type": "display_data"
    }
   ],
   "source": [
    "#group_brand_df.brand.plot.bar()\n",
    "group_brand_df['brand'].value_counts().sort_values(ascending=False).head(10).plot.bar()"
   ]
  },
  {
   "cell_type": "code",
   "execution_count": 102,
   "metadata": {},
   "outputs": [
    {
     "data": {
      "text/plain": [
       "foodtexture\n",
       "pate               622\n",
       "stew               246\n",
       "chunks in gravy    225\n",
       "minced              87\n",
       "shredded            33\n",
       "Name: brand, dtype: int64"
      ]
     },
     "execution_count": 102,
     "metadata": {},
     "output_type": "execute_result"
    }
   ],
   "source": [
    "group_texture_df=wetdogfood_df[['brand','foodtexture']].groupby('foodtexture')\n",
    "group_texture_df=group_texture_df.count().sort_values('brand',ascending=False).head(5)\n",
    "group_texture_df.brand\n",
    "#group_texture_df=group_texture_df['foodtexture'].value_counts().sort_values(ascending=False).head(5)\n",
    "\n",
    "#pate_df.loc[wetdogfood_df.a==0,:]\n",
    "#group_texture_df.boxplot(by='foodtexture', column='unit_price')\n",
    "#plt.ylabel('Price per Pound ($)')"
   ]
  },
  {
   "cell_type": "code",
   "execution_count": 109,
   "metadata": {},
   "outputs": [
    {
     "data": {
      "image/png": "[encoded data removed]",
      "text/plain": [
       "<matplotlib.figure.Figure at 0x1676cc64f60>"
      ]
     },
     "metadata": {},
     "output_type": "display_data"
    }
   ],
   "source": [
    "# Data to plot\n",
    "#labels = 'Pate', 'Stew', 'Chunks in Gravy', 'Minced', 'Shredded'\n",
    "labels=group_texture_df.index.str.title()\n",
    "sizes = group_texture_df.brand\n",
    "colors = ['gold', 'yellowgreen', 'lightcoral', 'lightskyblue','red']\n",
    "explode = (0.1, 0, 0, 0, 0)  # explode 1st slice\n",
    " \n",
    "# Plot\n",
    "plt.pie(sizes, explode=explode, labels=labels, colors=colors,\n",
    "        autopct='%1.1f%%', shadow=True, startangle=140)\n",
    " \n",
    "plt.axis('equal')\n",
    "plt.show()"
   ]
  },
  {
   "cell_type": "code",
   "execution_count": 139,
   "metadata": {},
   "outputs": [
    {
     "data": {
      "text/plain": [
       "<matplotlib.axes._subplots.AxesSubplot at 0x1676e2841d0>"
      ]
     },
     "execution_count": 139,
     "metadata": {},
     "output_type": "execute_result"
    },
    {
     "data": {
      "image/png": "[encoded data removed]",
      "text/plain": [
       "<matplotlib.figure.Figure at 0x1676cbc1278>"
      ]
     },
     "metadata": {},
     "output_type": "display_data"
    }
   ],
   "source": [
    "#score=lambda rev,rat:rat+5*(1-e** \n",
    "ratingscore_df=wetdogfood_df.drop(['price','weight','unit_price'],axis=1)\n",
    "ratingscore_df['score']=ratingscore_df['rating']+5*(1-np.exp(-wetdogfood_df.review_cnt/100))\n",
    "ratingscore_df.score.plot.hist(bins=15)\n",
    "#ratingscore_df.review_cnt.plot.hist()\n",
    "#ratingscore_df.rating.plot.hist()"
   ]
  },
  {
   "cell_type": "code",
   "execution_count": 231,
   "metadata": {},
   "outputs": [
    {
     "name": "stdout",
     "output_type": "stream",
     "text": [
      "9\n"
     ]
    },
    {
     "data": {
      "text/plain": [
       "foodtexture      maker                           \n",
       "chunks in gravy  Rachael Ray Nutrish                 1\n",
       "                 Royal Canin Veterinary Diet         1\n",
       "                 Taste of the Wild                   2\n",
       "minced           Purina Pro Plan Veterinary Diets    1\n",
       "pate             Blue Buffalo                        2\n",
       "                 Hill's Prescription Diet            6\n",
       "                 Natural Balance                     3\n",
       "                 Redbarn                             2\n",
       "                 Royal Canin Veterinary Diet         4\n",
       "stew             Blue Buffalo                        1\n",
       "                 Hill's Prescription Diet            6\n",
       "                 Whole Earth Farms                   1\n",
       "dtype: int64"
      ]
     },
     "execution_count": 231,
     "metadata": {},
     "output_type": "execute_result"
    }
   ],
   "source": [
    "top30_score_df=ratingscore_df.sort_values('score',ascending=False).head(30)\n",
    "print(len(top30_score_df.maker.unique()))\n",
    "#len(top30_score_df.brand.unique())\n",
    "top30_score_df=top30_score_df.drop(['product_list','brand','rating','review_cnt','score'],axis=1)[['maker','foodtexture']]\n",
    "top30_score_df=top30_score_df.groupby(['foodtexture','maker']).size()\n",
    "top30_score_df\n"
   ]
  },
  {
   "cell_type": "code",
   "execution_count": 232,
   "metadata": {},
   "outputs": [
    {
     "name": "stdout",
     "output_type": "stream",
     "text": [
      "foodtexture\n",
      "chunks in gravy     4\n",
      "minced              1\n",
      "pate               17\n",
      "stew                8\n",
      "dtype: int64\n"
     ]
    }
   ],
   "source": [
    "\n",
    "#top30_score_df.plot(kind='bar', stacked=True)\n",
    "top30_totals = top30_score_df.sum(level=0)\n",
    "print (top30_totals)"
   ]
  },
  {
   "cell_type": "code",
   "execution_count": 233,
   "metadata": {},
   "outputs": [
    {
     "name": "stdout",
     "output_type": "stream",
     "text": [
      "maker            Blue Buffalo  Hill's Prescription Diet  Natural Balance  \\\n",
      "foodtexture                                                                \n",
      "chunks in gravy           0.0                       0.0              0.0   \n",
      "minced                    0.0                       0.0              0.0   \n",
      "pate                      2.0                       6.0              3.0   \n",
      "stew                      1.0                       6.0              0.0   \n",
      "\n",
      "maker            Purina Pro Plan Veterinary Diets  Rachael Ray Nutrish  \\\n",
      "foodtexture                                                              \n",
      "chunks in gravy                               0.0                  1.0   \n",
      "minced                                        1.0                  0.0   \n",
      "pate                                          0.0                  0.0   \n",
      "stew                                          0.0                  0.0   \n",
      "\n",
      "maker            Redbarn  Royal Canin Veterinary Diet  Taste of the Wild  \\\n",
      "foodtexture                                                                \n",
      "chunks in gravy      0.0                          1.0                2.0   \n",
      "minced               0.0                          0.0                0.0   \n",
      "pate                 2.0                          4.0                0.0   \n",
      "stew                 0.0                          0.0                0.0   \n",
      "\n",
      "maker            Whole Earth Farms  \n",
      "foodtexture                         \n",
      "chunks in gravy                0.0  \n",
      "minced                         0.0  \n",
      "pate                           0.0  \n",
      "stew                           1.0  \n"
     ]
    }
   ],
   "source": [
    "\n",
    "top30_score_df = top30_score_df.unstack(level=1).fillna(0)\n",
    "#top30_score_df.columns = top30_score_df.columns.droplevel(level=0)\n",
    "print(top30_score_df)"
   ]
  },
  {
   "cell_type": "code",
   "execution_count": 234,
   "metadata": {},
   "outputs": [
    {
     "data": {
      "text/plain": [
       "<matplotlib.axes._subplots.AxesSubplot at 0x1676ae1c160>"
      ]
     },
     "execution_count": 234,
     "metadata": {},
     "output_type": "execute_result"
    },
    {
     "data": {
      "image/png": "[encoded data removed]",
      "text/plain": [
       "<matplotlib.figure.Figure at 0x1676b2204a8>"
      ]
     },
     "metadata": {},
     "output_type": "display_data"
    }
   ],
   "source": [
    "from matplotlib import cm\n",
    "top30_score_df.plot(kind='bar', stacked=True,colormap=cm.Vega10)"
   ]
  },
  {
   "cell_type": "code",
   "execution_count": null,
   "metadata": {
    "collapsed": true
   },
   "outputs": [],
   "source": [
    "plt.bar(texture), counts['M'], bottom=None, color='blue', label='M')\n",
    "plt.bar(ages, counts['F'], bottom=counts['M'], color='pink', label='F')\n",
    "plt.legend()\n",
    "plt.xlabel('Ages')\n",
    "plt.ylabel('Count')"
   ]
  }
 ],
 "metadata": {
  "kernelspec": {
   "display_name": "Python 3",
   "language": "python",
   "name": "python3"
  },
  "language_info": {
   "codemirror_mode": {
    "name": "ipython",
    "version": 3
   },
   "file_extension": ".py",
   "mimetype": "text/x-python",
   "name": "python",
   "nbconvert_exporter": "python",
   "pygments_lexer": "ipython3",
   "version": "3.5.3"
  }
 },
 "nbformat": 4,
 "nbformat_minor": 2
}
