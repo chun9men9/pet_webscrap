{
 "cells": [
  {
   "cell_type": "code",
   "execution_count": 322,
   "metadata": {
    "collapsed": true
   },
   "outputs": [],
   "source": [
    "%matplotlib inline"
   ]
  },
  {
   "cell_type": "code",
   "execution_count": 321,
   "metadata": {
    "collapsed": true
   },
   "outputs": [],
   "source": [
    "import pandas as pd\n",
    "import numpy as np\n",
    "from matplotlib import pyplot as plt\n",
    "import re"
   ]
  },
  {
   "cell_type": "code",
   "execution_count": 523,
   "metadata": {
    "scrolled": true
   },
   "outputs": [],
   "source": [
    "wdog_csv_df = pd.read_csv('wetdogfood.csv')\n",
    "#wdog_csv_df"
   ]
  },
  {
   "cell_type": "code",
   "execution_count": 524,
   "metadata": {},
   "outputs": [
    {
     "name": "stdout",
     "output_type": "stream",
     "text": [
      "(1290, 24)\n"
     ]
    }
   ],
   "source": [
    "print(wdog_csv_df.shape)\n",
    "#print(wdog_csv_df.size)\n",
    "#wdog_csv_df.isnull()"
   ]
  },
  {
   "cell_type": "code",
   "execution_count": 525,
   "metadata": {},
   "outputs": [
    {
     "name": "stderr",
     "output_type": "stream",
     "text": [
      "C:\\Users\\cmlim\\Anaconda2\\envs\\py35\\lib\\site-packages\\ipykernel_launcher.py:9: SettingWithCopyWarning: \n",
      "A value is trying to be set on a copy of a slice from a DataFrame.\n",
      "Try using .loc[row_indexer,col_indexer] = value instead\n",
      "\n",
      "See the caveats in the documentation: http://pandas.pydata.org/pandas-docs/stable/indexing.html#indexing-view-versus-copy\n",
      "  if __name__ == '__main__':\n"
     ]
    },
    {
     "data": {
      "text/html": [
       "<div>\n",
       "<style>\n",
       "    .dataframe thead tr:only-child th {\n",
       "        text-align: right;\n",
       "    }\n",
       "\n",
       "    .dataframe thead th {\n",
       "        text-align: left;\n",
       "    }\n",
       "\n",
       "    .dataframe tbody tr th {\n",
       "        vertical-align: top;\n",
       "    }\n",
       "</style>\n",
       "<table border=\"1\" class=\"dataframe\">\n",
       "  <thead>\n",
       "    <tr style=\"text-align: right;\">\n",
       "      <th></th>\n",
       "      <th>price</th>\n",
       "      <th>weight</th>\n",
       "      <th>size</th>\n",
       "      <th>product_list</th>\n",
       "    </tr>\n",
       "  </thead>\n",
       "  <tbody>\n",
       "    <tr>\n",
       "      <th>0</th>\n",
       "      <td>21.24</td>\n",
       "      <td>NaN</td>\n",
       "      <td>NaN</td>\n",
       "      <td>whole earth farms grain-free hearty beef stew ...</td>\n",
       "    </tr>\n",
       "    <tr>\n",
       "      <th>1</th>\n",
       "      <td>35.99</td>\n",
       "      <td>NaN</td>\n",
       "      <td>12.5-oz, case of 12</td>\n",
       "      <td>hill's prescription diet k/d kidney care chick...</td>\n",
       "    </tr>\n",
       "    <tr>\n",
       "      <th>2</th>\n",
       "      <td>18.85</td>\n",
       "      <td>NaN</td>\n",
       "      <td>NaN</td>\n",
       "      <td>hill's science diet adult savory stew with bee...</td>\n",
       "    </tr>\n",
       "    <tr>\n",
       "      <th>3</th>\n",
       "      <td>25.99</td>\n",
       "      <td>NaN</td>\n",
       "      <td>NaN</td>\n",
       "      <td>blue buffalo wilderness duck &amp; chicken grill g...</td>\n",
       "    </tr>\n",
       "    <tr>\n",
       "      <th>4</th>\n",
       "      <td>18.22</td>\n",
       "      <td>NaN</td>\n",
       "      <td>12.5-oz, case of 12</td>\n",
       "      <td>nutro max large breed adult beef &amp; rice dinner...</td>\n",
       "    </tr>\n",
       "    <tr>\n",
       "      <th>5</th>\n",
       "      <td>33.99</td>\n",
       "      <td>NaN</td>\n",
       "      <td>NaN</td>\n",
       "      <td>wellness 95% beef grain-free canned dog food,1...</td>\n",
       "    </tr>\n",
       "    <tr>\n",
       "      <th>6</th>\n",
       "      <td>30.99</td>\n",
       "      <td>NaN</td>\n",
       "      <td>NaN</td>\n",
       "      <td>purina pro plan veterinary diets nf kidney fun...</td>\n",
       "    </tr>\n",
       "    <tr>\n",
       "      <th>7</th>\n",
       "      <td>15.20</td>\n",
       "      <td>NaN</td>\n",
       "      <td>NaN</td>\n",
       "      <td>purina one smartblend tender cuts in gravy chi...</td>\n",
       "    </tr>\n",
       "    <tr>\n",
       "      <th>8</th>\n",
       "      <td>18.96</td>\n",
       "      <td>NaN</td>\n",
       "      <td>NaN</td>\n",
       "      <td>purina pro plan focus adult 7+ beef &amp; rice ent...</td>\n",
       "    </tr>\n",
       "    <tr>\n",
       "      <th>9</th>\n",
       "      <td>24.54</td>\n",
       "      <td>NaN</td>\n",
       "      <td>12.7-oz, case of 12</td>\n",
       "      <td>newman's own organics grain-free 95% chicken &amp;...</td>\n",
       "    </tr>\n",
       "    <tr>\n",
       "      <th>10</th>\n",
       "      <td>33.99</td>\n",
       "      <td>NaN</td>\n",
       "      <td>NaN</td>\n",
       "      <td>wellness turkey &amp; duck stew with sweet potatoe...</td>\n",
       "    </tr>\n",
       "    <tr>\n",
       "      <th>11</th>\n",
       "      <td>27.44</td>\n",
       "      <td>10.125 pounds</td>\n",
       "      <td>NaN</td>\n",
       "      <td>royal canin mature adult in gel canned dog foo...</td>\n",
       "    </tr>\n",
       "  </tbody>\n",
       "</table>\n",
       "</div>"
      ],
      "text/plain": [
       "    price         weight                 size  \\\n",
       "0   21.24            NaN                  NaN   \n",
       "1   35.99            NaN  12.5-oz, case of 12   \n",
       "2   18.85            NaN                  NaN   \n",
       "3   25.99            NaN                  NaN   \n",
       "4   18.22            NaN  12.5-oz, case of 12   \n",
       "5   33.99            NaN                  NaN   \n",
       "6   30.99            NaN                  NaN   \n",
       "7   15.20            NaN                  NaN   \n",
       "8   18.96            NaN                  NaN   \n",
       "9   24.54            NaN  12.7-oz, case of 12   \n",
       "10  33.99            NaN                  NaN   \n",
       "11  27.44  10.125 pounds                  NaN   \n",
       "\n",
       "                                         product_list  \n",
       "0   whole earth farms grain-free hearty beef stew ...  \n",
       "1   hill's prescription diet k/d kidney care chick...  \n",
       "2   hill's science diet adult savory stew with bee...  \n",
       "3   blue buffalo wilderness duck & chicken grill g...  \n",
       "4   nutro max large breed adult beef & rice dinner...  \n",
       "5   wellness 95% beef grain-free canned dog food,1...  \n",
       "6   purina pro plan veterinary diets nf kidney fun...  \n",
       "7   purina one smartblend tender cuts in gravy chi...  \n",
       "8   purina pro plan focus adult 7+ beef & rice ent...  \n",
       "9   newman's own organics grain-free 95% chicken &...  \n",
       "10  wellness turkey & duck stew with sweet potatoe...  \n",
       "11  royal canin mature adult in gel canned dog foo...  "
      ]
     },
     "execution_count": 525,
     "metadata": {},
     "output_type": "execute_result"
    }
   ],
   "source": [
    "####  Clean Price Column  ####\n",
    "##def srchcol_str(dfcol,srstr):\n",
    "#    return(all())\n",
    "wetdog_df=wdog_csv_df[['price','weight','size','product_list']]\n",
    "wetdog_df.head()\n",
    "#Check that all Prices include '$'\n",
    "check_price=all(wetdog_df.price.map(lambda p:bool(re.search('$',str(p)))))\n",
    "if(check_price):\n",
    "    wetdog_df['price']=wetdog_df.price.str.replace('\\n\\s+\\$','').str.strip(' ')\n",
    "else:\n",
    "    raise('Price Columns incomplete')\n",
    "wetdog_df.head(12)\n",
    "\n",
    "#print(type(wetdog_df))\n",
    "#apply(lambda p:bool(re.search('$',p)), )"
   ]
  },
  {
   "cell_type": "code",
   "execution_count": 526,
   "metadata": {},
   "outputs": [
    {
     "data": {
      "text/plain": [
       "(1290, 4)"
      ]
     },
     "execution_count": 526,
     "metadata": {},
     "output_type": "execute_result"
    }
   ],
   "source": [
    "#wetdog_df2=wetdog_df.copy()\n",
    "wetdog_df.shape"
   ]
  },
  {
   "cell_type": "code",
   "execution_count": 527,
   "metadata": {},
   "outputs": [
    {
     "data": {
      "text/html": [
       "<div>\n",
       "<style>\n",
       "    .dataframe thead tr:only-child th {\n",
       "        text-align: right;\n",
       "    }\n",
       "\n",
       "    .dataframe thead th {\n",
       "        text-align: left;\n",
       "    }\n",
       "\n",
       "    .dataframe tbody tr th {\n",
       "        vertical-align: top;\n",
       "    }\n",
       "</style>\n",
       "<table border=\"1\" class=\"dataframe\">\n",
       "  <thead>\n",
       "    <tr style=\"text-align: right;\">\n",
       "      <th></th>\n",
       "      <th>price</th>\n",
       "      <th>weight</th>\n",
       "      <th>size</th>\n",
       "      <th>product_list</th>\n",
       "    </tr>\n",
       "  </thead>\n",
       "  <tbody>\n",
       "    <tr>\n",
       "      <th>0</th>\n",
       "      <td>21.24</td>\n",
       "      <td>0</td>\n",
       "      <td>0</td>\n",
       "      <td>whole earth farms grain-free hearty beef stew ...</td>\n",
       "    </tr>\n",
       "    <tr>\n",
       "      <th>1</th>\n",
       "      <td>35.99</td>\n",
       "      <td>0</td>\n",
       "      <td>12.5-oz, case of 12</td>\n",
       "      <td>hill's prescription diet k/d kidney care chick...</td>\n",
       "    </tr>\n",
       "    <tr>\n",
       "      <th>2</th>\n",
       "      <td>18.85</td>\n",
       "      <td>0</td>\n",
       "      <td>0</td>\n",
       "      <td>hill's science diet adult savory stew with bee...</td>\n",
       "    </tr>\n",
       "    <tr>\n",
       "      <th>3</th>\n",
       "      <td>25.99</td>\n",
       "      <td>0</td>\n",
       "      <td>0</td>\n",
       "      <td>blue buffalo wilderness duck &amp; chicken grill g...</td>\n",
       "    </tr>\n",
       "    <tr>\n",
       "      <th>4</th>\n",
       "      <td>18.22</td>\n",
       "      <td>0</td>\n",
       "      <td>12.5-oz, case of 12</td>\n",
       "      <td>nutro max large breed adult beef &amp; rice dinner...</td>\n",
       "    </tr>\n",
       "  </tbody>\n",
       "</table>\n",
       "</div>"
      ],
      "text/plain": [
       "   price weight                 size  \\\n",
       "0  21.24      0                    0   \n",
       "1  35.99      0  12.5-oz, case of 12   \n",
       "2  18.85      0                    0   \n",
       "3  25.99      0                    0   \n",
       "4  18.22      0  12.5-oz, case of 12   \n",
       "\n",
       "                                        product_list  \n",
       "0  whole earth farms grain-free hearty beef stew ...  \n",
       "1  hill's prescription diet k/d kidney care chick...  \n",
       "2  hill's science diet adult savory stew with bee...  \n",
       "3  blue buffalo wilderness duck & chicken grill g...  \n",
       "4  nutro max large breed adult beef & rice dinner...  "
      ]
     },
     "execution_count": 527,
     "metadata": {},
     "output_type": "execute_result"
    }
   ],
   "source": [
    "wetdog_df2=wetdog_df.copy()\n",
    "wetdog_df2=wetdog_df2.fillna(0)\n",
    "wetdog_df2.head()\n"
   ]
  },
  {
   "cell_type": "code",
   "execution_count": 528,
   "metadata": {},
   "outputs": [
    {
     "data": {
      "text/html": [
       "<div>\n",
       "<style>\n",
       "    .dataframe thead tr:only-child th {\n",
       "        text-align: right;\n",
       "    }\n",
       "\n",
       "    .dataframe thead th {\n",
       "        text-align: left;\n",
       "    }\n",
       "\n",
       "    .dataframe tbody tr th {\n",
       "        vertical-align: top;\n",
       "    }\n",
       "</style>\n",
       "<table border=\"1\" class=\"dataframe\">\n",
       "  <thead>\n",
       "    <tr style=\"text-align: right;\">\n",
       "      <th></th>\n",
       "      <th>price</th>\n",
       "      <th>weight</th>\n",
       "      <th>product_list</th>\n",
       "    </tr>\n",
       "  </thead>\n",
       "  <tbody>\n",
       "    <tr>\n",
       "      <th>0</th>\n",
       "      <td>21.24</td>\n",
       "      <td>9.525</td>\n",
       "      <td>whole earth farms grain-free hearty beef stew</td>\n",
       "    </tr>\n",
       "    <tr>\n",
       "      <th>1</th>\n",
       "      <td>35.99</td>\n",
       "      <td>9.375</td>\n",
       "      <td>hill's prescription diet k/d kidney care chick...</td>\n",
       "    </tr>\n",
       "    <tr>\n",
       "      <th>2</th>\n",
       "      <td>18.85</td>\n",
       "      <td>9.6</td>\n",
       "      <td>hill's science diet adult savory stew with bee...</td>\n",
       "    </tr>\n",
       "    <tr>\n",
       "      <th>3</th>\n",
       "      <td>25.99</td>\n",
       "      <td>9.375</td>\n",
       "      <td>blue buffalo wilderness duck &amp; chicken grill g...</td>\n",
       "    </tr>\n",
       "    <tr>\n",
       "      <th>4</th>\n",
       "      <td>18.22</td>\n",
       "      <td>9.375</td>\n",
       "      <td>nutro max large breed adult beef &amp; rice dinner...</td>\n",
       "    </tr>\n",
       "  </tbody>\n",
       "</table>\n",
       "</div>"
      ],
      "text/plain": [
       "   price weight                                       product_list\n",
       "0  21.24  9.525     whole earth farms grain-free hearty beef stew \n",
       "1  35.99  9.375  hill's prescription diet k/d kidney care chick...\n",
       "2  18.85    9.6  hill's science diet adult savory stew with bee...\n",
       "3  25.99  9.375  blue buffalo wilderness duck & chicken grill g...\n",
       "4  18.22  9.375  nutro max large breed adult beef & rice dinner..."
      ]
     },
     "execution_count": 528,
     "metadata": {},
     "output_type": "execute_result"
    }
   ],
   "source": [
    "#### Extract Weight ####\n",
    "#Add Weight and ProductList\n",
    "\n",
    "#def weight_productlist(prod_str):\n",
    "    #Looks for Weight information and returns total weight in Pounds\n",
    "#    m=re.search(',(\\d+\\.\\d+)-oz,case of (\\d+)|$',prod_str)\n",
    "#    canwt=float(m.group(1))\n",
    "#    cans=int(m.group(2))\n",
    "#    return(bool(m),canwt*cans*0.0625)\n",
    "#wetdog_df2=wetdog_df.copy()\n",
    "#wetdog_df2=wetdog_df.copy()\n",
    "#wetdog_df2=wetdog_df2.fillna(0)\n",
    "#wetdog_df2.head()\n",
    "\n",
    "for index, row in wetdog_df2.iterrows():\n",
    "    #print(row['product_list'])\n",
    "    row['product_list']=re.sub('oz tub,','oz,',row['product_list'])\n",
    "    row['product_list']=re.sub('oz tray,','oz,',row['product_list'])\n",
    "    row['product_list']=re.sub('oz case','oz,case',row['product_list'])\n",
    "    regex=',(\\S+)[-| ]oz,case of (\\d+)'\n",
    "    \n",
    "    #regex_tray=',(\\S+)[-| ]oz tray,case of (\\d+)'\n",
    "    if (row['weight']!=0):\n",
    "        mpd=re.search('(\\S+).*pounds', row['weight'])\n",
    "        moz=re.search('(\\S+).*ounces', row['weight'])\n",
    "        if(bool(mpd)):\n",
    "            row['weight']=float(mpd.group(1))\n",
    "        if(bool(moz)):\n",
    "            row['weight']=float(moz.group(1))*0.0625\n",
    "    elif((row['size'])!=0):\n",
    "        #print (row['size'])\n",
    "        #regex1='(\\S+)-oz,case of (\\d+)'\n",
    "        regex1='(\\S+)-oz, case of (\\d+)'\n",
    "        regex2='(\\S+)-lb'\n",
    "        m1=re.search(regex1,row['size'])\n",
    "        m2=re.search(regex2,row['size'])\n",
    "        if(bool(m1)):\n",
    "            canwt=float(m1.group(1))\n",
    "            cans=int(m1.group(2))\n",
    "            row['weight']=canwt*cans*0.0625\n",
    "        elif(bool(m2)):\n",
    "            row['weight']=float(m2.group(1))\n",
    "    else:\n",
    "        #regex=',(\\S+)[-| ]oz,case of (\\d+)'\n",
    "        m=re.search(regex,row['product_list'])\n",
    "        #m_tub=re.search(regex_tub,row['product_list'])\n",
    "        #m_tray=re.search(regex_tray,row['product_list'])\n",
    "        if(bool(m)):\n",
    "            canwt=float(m.group(1))\n",
    "            cans=int(m.group(2))\n",
    "            row['weight']=canwt*cans*0.0625\n",
    "        \n",
    "    regex2='canned dog food'\n",
    "    #print('Before')\n",
    "    #print(row['product_list'])\n",
    "    row['product_list']=re.sub(regex,'',row['product_list'])\n",
    "    #row['product_list']=re.sub(regex_tub,'',row['product_list'])\n",
    "    #row['product_list']=re.sub(regex_tray,'',row['product_list'])\n",
    "    row['product_list']=re.sub(regex2,'',row['product_list'])\n",
    "    #print('After')\n",
    "    #print(row['product_list'])\n",
    "            \n",
    "#wetdog_df2.product_list\n",
    "wetdog_df2=wetdog_df2.drop('size',axis=1)\n",
    "wetdog_df2.head()"
   ]
  },
  {
   "cell_type": "code",
   "execution_count": 529,
   "metadata": {},
   "outputs": [
    {
     "name": "stdout",
     "output_type": "stream",
     "text": [
      "['Whole Earth Farms' \"Hill's\" 'Blue Buffalo' 'Nutro' 'Wellness' 'Purina'\n",
      " \"Newman's Own Organics\" 'Royal Canin' 'Holistic Select' 'Pedigree'\n",
      " \"Evanger's\" 'Dogswell' 'Cesar' \"Nature's Logic\" 'Nulo' 'Health Extension'\n",
      " 'Weruva' 'Eukanuba' 'Natural Balance' 'Instinct' 'Castor & Pollux'\n",
      " 'Eagle Pack' 'Party Animal' 'Merrick' 'ALPO' \"Nature's Recipe\" 'Iams'\n",
      " \"Dave's Pet Food\" 'CANIDAE' 'PetKind' 'Halo' 'EVO' 'Wild Calling'\n",
      " 'Mighty Dog' 'Zignature' 'Chicken Soup' 'Solid Gold' 'Redbarn'\n",
      " 'Earthborn Holistic' 'Caru' 'Rachael Ray Nutrish' 'Goody Box'\n",
      " 'Taste of the Wild' \"Kibbles 'n Bits\" 'Precise Holistic Complete'\n",
      " 'Tiki Dog' 'Tender & True' 'KASIKS' 'Variety Pet Foods' 'Triumph'\n",
      " 'K9 Natural' 'Go!' 'AvoDerm' 'Bravo!' 'PetGuard' 'FirstMate'\n",
      " 'Precise Naturals' 'Canine Caviar' 'Nutrisca' 'Under the Sun' 'Evolve'\n",
      " 'Hound & Gatos' 'HI-TOR' 'Lotus' 'Wysong' 'Addiction' 'I and Love and You'\n",
      " 'Ziwi' 'Gentle Giants' 'Victor' 'Three Dog Bakery' 'Against the Grain'\n",
      " 'Tuscan Natural' 'Almo Nature']\n"
     ]
    },
    {
     "data": {
      "text/html": [
       "<div>\n",
       "<style>\n",
       "    .dataframe thead tr:only-child th {\n",
       "        text-align: right;\n",
       "    }\n",
       "\n",
       "    .dataframe thead th {\n",
       "        text-align: left;\n",
       "    }\n",
       "\n",
       "    .dataframe tbody tr th {\n",
       "        vertical-align: top;\n",
       "    }\n",
       "</style>\n",
       "<table border=\"1\" class=\"dataframe\">\n",
       "  <thead>\n",
       "    <tr style=\"text-align: right;\">\n",
       "      <th></th>\n",
       "      <th>price</th>\n",
       "      <th>weight</th>\n",
       "      <th>product_list</th>\n",
       "      <th>maker</th>\n",
       "      <th>brand</th>\n",
       "    </tr>\n",
       "  </thead>\n",
       "  <tbody>\n",
       "    <tr>\n",
       "      <th>0</th>\n",
       "      <td>21.24</td>\n",
       "      <td>9.525</td>\n",
       "      <td>whole earth farms grain-free hearty beef stew</td>\n",
       "      <td>Whole Earth Farms</td>\n",
       "      <td>Whole Earth Farms</td>\n",
       "    </tr>\n",
       "    <tr>\n",
       "      <th>1</th>\n",
       "      <td>35.99</td>\n",
       "      <td>9.375</td>\n",
       "      <td>hill's prescription diet k/d kidney care chick...</td>\n",
       "      <td>Hill's Prescription Diet</td>\n",
       "      <td>Hill's</td>\n",
       "    </tr>\n",
       "    <tr>\n",
       "      <th>2</th>\n",
       "      <td>18.85</td>\n",
       "      <td>9.6</td>\n",
       "      <td>hill's science diet adult savory stew with bee...</td>\n",
       "      <td>Hill's Science Diet</td>\n",
       "      <td>Hill's</td>\n",
       "    </tr>\n",
       "    <tr>\n",
       "      <th>3</th>\n",
       "      <td>25.99</td>\n",
       "      <td>9.375</td>\n",
       "      <td>blue buffalo wilderness duck &amp; chicken grill g...</td>\n",
       "      <td>Blue Buffalo</td>\n",
       "      <td>Blue Buffalo</td>\n",
       "    </tr>\n",
       "    <tr>\n",
       "      <th>4</th>\n",
       "      <td>18.22</td>\n",
       "      <td>9.375</td>\n",
       "      <td>nutro max large breed adult beef &amp; rice dinner...</td>\n",
       "      <td>Nutro Max</td>\n",
       "      <td>Nutro</td>\n",
       "    </tr>\n",
       "  </tbody>\n",
       "</table>\n",
       "</div>"
      ],
      "text/plain": [
       "   price weight                                       product_list  \\\n",
       "0  21.24  9.525     whole earth farms grain-free hearty beef stew    \n",
       "1  35.99  9.375  hill's prescription diet k/d kidney care chick...   \n",
       "2  18.85    9.6  hill's science diet adult savory stew with bee...   \n",
       "3  25.99  9.375  blue buffalo wilderness duck & chicken grill g...   \n",
       "4  18.22  9.375  nutro max large breed adult beef & rice dinner...   \n",
       "\n",
       "                      maker              brand  \n",
       "0         Whole Earth Farms  Whole Earth Farms  \n",
       "1  Hill's Prescription Diet             Hill's  \n",
       "2       Hill's Science Diet             Hill's  \n",
       "3              Blue Buffalo       Blue Buffalo  \n",
       "4                 Nutro Max              Nutro  "
      ]
     },
     "execution_count": 529,
     "metadata": {},
     "output_type": "execute_result"
    }
   ],
   "source": [
    "#len(wetdog_df2.maker.unique())\n",
    "#wetdog_df2.maker.unique()\n",
    "wetdog_df2['maker']=wdog_csv_df.maker.map(lambda m: re.sub('By ','',m))\n",
    "#wetdog_df2['brand']=np.nan\n",
    "\n",
    "def detect_brand(brand):\n",
    "    group=['Hill\\'s', 'Purina', 'Nutro','Royal Canin']\n",
    "    brandout=brand\n",
    "    for grp in group:\n",
    "        #if(bool(brand.find(grp))):\n",
    "        m=re.search(grp,brand)\n",
    "        if(bool(m)):\n",
    "           brandout=grp\n",
    "    return(brandout)\n",
    "wetdog_df2['brand']=wetdog_df2.maker.map(detect_brand,m)\n",
    "print(wetdog_df2.brand.unique())\n",
    "wetdog_df2.head()\n"
   ]
  },
  {
   "cell_type": "code",
   "execution_count": 530,
   "metadata": {},
   "outputs": [
    {
     "name": "stdout",
     "output_type": "stream",
     "text": [
      "['stew' 'pate' 'chunks in gravy' 'minced' 'bits in broth'\n",
      " 'pate, chunks in gravy' 'shredded' 'flaked' 'stew, chunks in gravy' nan\n",
      " 'bits in broth, pate' 'sliced' 'aspic / gelee' 'ground' 'minced, shredded'\n",
      " 'grilled']\n"
     ]
    },
    {
     "data": {
      "text/html": [
       "<div>\n",
       "<style>\n",
       "    .dataframe thead tr:only-child th {\n",
       "        text-align: right;\n",
       "    }\n",
       "\n",
       "    .dataframe thead th {\n",
       "        text-align: left;\n",
       "    }\n",
       "\n",
       "    .dataframe tbody tr th {\n",
       "        vertical-align: top;\n",
       "    }\n",
       "</style>\n",
       "<table border=\"1\" class=\"dataframe\">\n",
       "  <thead>\n",
       "    <tr style=\"text-align: right;\">\n",
       "      <th></th>\n",
       "      <th>price</th>\n",
       "      <th>weight</th>\n",
       "      <th>product_list</th>\n",
       "      <th>maker</th>\n",
       "      <th>brand</th>\n",
       "      <th>rating</th>\n",
       "      <th>review_cnt</th>\n",
       "      <th>foodtexture</th>\n",
       "    </tr>\n",
       "  </thead>\n",
       "  <tbody>\n",
       "    <tr>\n",
       "      <th>0</th>\n",
       "      <td>21.24</td>\n",
       "      <td>9.525</td>\n",
       "      <td>whole earth farms grain-free hearty beef stew</td>\n",
       "      <td>Whole Earth Farms</td>\n",
       "      <td>Whole Earth Farms</td>\n",
       "      <td>4.4</td>\n",
       "      <td>206.0</td>\n",
       "      <td>stew</td>\n",
       "    </tr>\n",
       "    <tr>\n",
       "      <th>1</th>\n",
       "      <td>35.99</td>\n",
       "      <td>9.375</td>\n",
       "      <td>hill's prescription diet k/d kidney care chick...</td>\n",
       "      <td>Hill's Prescription Diet</td>\n",
       "      <td>Hill's</td>\n",
       "      <td>4.6</td>\n",
       "      <td>175.0</td>\n",
       "      <td>stew</td>\n",
       "    </tr>\n",
       "    <tr>\n",
       "      <th>2</th>\n",
       "      <td>18.85</td>\n",
       "      <td>9.6</td>\n",
       "      <td>hill's science diet adult savory stew with bee...</td>\n",
       "      <td>Hill's Science Diet</td>\n",
       "      <td>Hill's</td>\n",
       "      <td>4.9</td>\n",
       "      <td>40.0</td>\n",
       "      <td>stew</td>\n",
       "    </tr>\n",
       "    <tr>\n",
       "      <th>3</th>\n",
       "      <td>25.99</td>\n",
       "      <td>9.375</td>\n",
       "      <td>blue buffalo wilderness duck &amp; chicken grill g...</td>\n",
       "      <td>Blue Buffalo</td>\n",
       "      <td>Blue Buffalo</td>\n",
       "      <td>4.6</td>\n",
       "      <td>97.0</td>\n",
       "      <td>pate</td>\n",
       "    </tr>\n",
       "    <tr>\n",
       "      <th>4</th>\n",
       "      <td>18.22</td>\n",
       "      <td>9.375</td>\n",
       "      <td>nutro max large breed adult beef &amp; rice dinner...</td>\n",
       "      <td>Nutro Max</td>\n",
       "      <td>Nutro</td>\n",
       "      <td>4.6</td>\n",
       "      <td>33.0</td>\n",
       "      <td>chunks in gravy</td>\n",
       "    </tr>\n",
       "  </tbody>\n",
       "</table>\n",
       "</div>"
      ],
      "text/plain": [
       "   price weight                                       product_list  \\\n",
       "0  21.24  9.525     whole earth farms grain-free hearty beef stew    \n",
       "1  35.99  9.375  hill's prescription diet k/d kidney care chick...   \n",
       "2  18.85    9.6  hill's science diet adult savory stew with bee...   \n",
       "3  25.99  9.375  blue buffalo wilderness duck & chicken grill g...   \n",
       "4  18.22  9.375  nutro max large breed adult beef & rice dinner...   \n",
       "\n",
       "                      maker              brand  rating  review_cnt  \\\n",
       "0         Whole Earth Farms  Whole Earth Farms     4.4       206.0   \n",
       "1  Hill's Prescription Diet             Hill's     4.6       175.0   \n",
       "2       Hill's Science Diet             Hill's     4.9        40.0   \n",
       "3              Blue Buffalo       Blue Buffalo     4.6        97.0   \n",
       "4                 Nutro Max              Nutro     4.6        33.0   \n",
       "\n",
       "       foodtexture  \n",
       "0             stew  \n",
       "1             stew  \n",
       "2             stew  \n",
       "3             pate  \n",
       "4  chunks in gravy  "
      ]
     },
     "execution_count": 530,
     "metadata": {},
     "output_type": "execute_result"
    }
   ],
   "source": [
    "wetdog_df2['rating']=wdog_csv_df['rating']\n",
    "wetdog_df2['review_cnt']=wdog_csv_df['review_count']\n",
    "wetdog_df2['foodtexture']=wdog_csv_df['foodtexture']\n",
    "print(wetdog_df2.foodtexture.unique())\n",
    "#wetdog_df2.sort_values('review_cnt',ascending=False)\n",
    "wetdog_df2.head()"
   ]
  },
  {
   "cell_type": "code",
   "execution_count": 531,
   "metadata": {},
   "outputs": [
    {
     "name": "stdout",
     "output_type": "stream",
     "text": [
      "(1290, 8)\n",
      "(1290, 8)\n"
     ]
    }
   ],
   "source": [
    "print(wetdog_df2.shape)\n",
    "#wetdog_df2 = wetdog_df2[wetdog_df2.weight != 0]\n",
    "print(wetdog_df2.shape)\n",
    "wetdog_df2.to_csv('wetdog_clean_df.csv')"
   ]
  },
  {
   "cell_type": "code",
   "execution_count": null,
   "metadata": {
    "collapsed": true
   },
   "outputs": [],
   "source": []
  },
  {
   "cell_type": "code",
   "execution_count": null,
   "metadata": {
    "collapsed": true
   },
   "outputs": [],
   "source": []
  },
  {
   "cell_type": "code",
   "execution_count": null,
   "metadata": {
    "collapsed": true
   },
   "outputs": [],
   "source": []
  },
  {
   "cell_type": "code",
   "execution_count": null,
   "metadata": {
    "collapsed": true
   },
   "outputs": [],
   "source": []
  },
  {
   "cell_type": "code",
   "execution_count": null,
   "metadata": {
    "collapsed": true
   },
   "outputs": [],
   "source": []
  },
  {
   "cell_type": "code",
   "execution_count": null,
   "metadata": {
    "collapsed": true
   },
   "outputs": [],
   "source": []
  },
  {
   "cell_type": "code",
   "execution_count": null,
   "metadata": {
    "collapsed": true
   },
   "outputs": [],
   "source": []
  },
  {
   "cell_type": "code",
   "execution_count": 126,
   "metadata": {},
   "outputs": [
    {
     "data": {
      "text/plain": [
       "'12.7'"
      ]
     },
     "execution_count": 126,
     "metadata": {},
     "output_type": "execute_result"
    }
   ],
   "source": [
    "m=re.search(regex,myprod)\n",
    "m.group(1)"
   ]
  },
  {
   "cell_type": "code",
   "execution_count": 103,
   "metadata": {},
   "outputs": [
    {
     "data": {
      "text/plain": [
       "'whole earth farms grain-free hearty beef stew canned dog food,12.7-oz,case of 12'"
      ]
     },
     "execution_count": 103,
     "metadata": {},
     "output_type": "execute_result"
    }
   ],
   "source": [
    "myprod"
   ]
  },
  {
   "cell_type": "code",
   "execution_count": null,
   "metadata": {
    "collapsed": true
   },
   "outputs": [],
   "source": []
  }
 ],
 "metadata": {
  "kernelspec": {
   "display_name": "Python 3",
   "language": "python",
   "name": "python3"
  },
  "language_info": {
   "codemirror_mode": {
    "name": "ipython",
    "version": 3
   },
   "file_extension": ".py",
   "mimetype": "text/x-python",
   "name": "python",
   "nbconvert_exporter": "python",
   "pygments_lexer": "ipython3",
   "version": "3.5.3"
  }
 },
 "nbformat": 4,
 "nbformat_minor": 2
}
